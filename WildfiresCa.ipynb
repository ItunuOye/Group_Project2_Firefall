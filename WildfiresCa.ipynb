{
 "cells": [
  {
   "cell_type": "code",
   "execution_count": 16,
   "metadata": {},
   "outputs": [],
   "source": [
    "from sqlalchemy import create_engine\n",
    "from sqlalchemy import inspect\n",
    "from sqlalchemy.ext.declarative import declarative_base\n",
    "Base = declarative_base()\n",
    "\n",
    "import pandas as pd\n",
    "\n",
    "import plotly as py\n",
    "import plotly.graph_objs as go\n",
    "py.tools.set_credentials_file(username='kashs', api_key='xrb0M6tlx9QXnxpCVkuA')"
   ]
  },
  {
   "cell_type": "code",
   "execution_count": 2,
   "metadata": {},
   "outputs": [],
   "source": [
    "#engine = create_engine('sqlite:///./FPA_FOD_20170508.sqlite')\n",
    "#Base.metadata.create_all(engine)"
   ]
  },
  {
   "cell_type": "code",
   "execution_count": 3,
   "metadata": {},
   "outputs": [],
   "source": [
    "db_uri = 'sqlite:///./data/FPA_FOD_20170508.sqlite'\n",
    "engine = create_engine(db_uri)\n",
    "\n",
    "inspector = inspect(engine)\n",
    "\n",
    "# Get table information\n",
    "#print(inspector.get_table_names())\n",
    "\n",
    "# Get column information\n",
    "#print(inspector.get_columns('Fires'))"
   ]
  },
  {
   "cell_type": "code",
   "execution_count": 4,
   "metadata": {},
   "outputs": [],
   "source": [
    "#test = engine.execute('SELECT fire_year, county, fips_code, count(*) FROM Fires WHERE state == \"CA\" GROUP BY fire_year, county, fips_code')\n",
    "#for i in test:\n",
    "#    print(i)"
   ]
  },
  {
   "cell_type": "code",
   "execution_count": 5,
   "metadata": {},
   "outputs": [],
   "source": [
    "# Store data in dataframe\n",
    "df_us_fires = pd.read_sql('SELECT FIRE_NAME, FIRE_YEAR, FIRE_SIZE, STAT_CAUSE_DESCR, LONGITUDE, LATITUDE, FIPS_CODE, FIPS_NAME FROM Fires WHERE FIRE_YEAR >= 2010 AND FIRE_SIZE > 1000 AND FIPS_CODE <> \"None\"', engine)"
   ]
  },
  {
   "cell_type": "code",
   "execution_count": 6,
   "metadata": {},
   "outputs": [
    {
     "data": {
      "text/html": [
       "<div>\n",
       "<style scoped>\n",
       "    .dataframe tbody tr th:only-of-type {\n",
       "        vertical-align: middle;\n",
       "    }\n",
       "\n",
       "    .dataframe tbody tr th {\n",
       "        vertical-align: top;\n",
       "    }\n",
       "\n",
       "    .dataframe thead th {\n",
       "        text-align: right;\n",
       "    }\n",
       "</style>\n",
       "<table border=\"1\" class=\"dataframe\">\n",
       "  <thead>\n",
       "    <tr style=\"text-align: right;\">\n",
       "      <th></th>\n",
       "      <th>FIRE_NAME</th>\n",
       "      <th>FIRE_YEAR</th>\n",
       "      <th>FIRE_SIZE</th>\n",
       "      <th>STAT_CAUSE_DESCR</th>\n",
       "      <th>LONGITUDE</th>\n",
       "      <th>LATITUDE</th>\n",
       "      <th>FIPS_CODE</th>\n",
       "      <th>FIPS_NAME</th>\n",
       "    </tr>\n",
       "  </thead>\n",
       "  <tbody>\n",
       "    <tr>\n",
       "      <th>0</th>\n",
       "      <td>WATERHOLE</td>\n",
       "      <td>2010</td>\n",
       "      <td>1818.0</td>\n",
       "      <td>Arson</td>\n",
       "      <td>-82.396389</td>\n",
       "      <td>30.321111</td>\n",
       "      <td>003</td>\n",
       "      <td>Baker</td>\n",
       "    </tr>\n",
       "    <tr>\n",
       "      <th>1</th>\n",
       "      <td>015 CAMP CLAIBORNE</td>\n",
       "      <td>2010</td>\n",
       "      <td>1633.0</td>\n",
       "      <td>Arson</td>\n",
       "      <td>-92.578333</td>\n",
       "      <td>31.115278</td>\n",
       "      <td>079</td>\n",
       "      <td>Rapides</td>\n",
       "    </tr>\n",
       "    <tr>\n",
       "      <th>2</th>\n",
       "      <td>CLAYLICK</td>\n",
       "      <td>2010</td>\n",
       "      <td>1102.0</td>\n",
       "      <td>Miscellaneous</td>\n",
       "      <td>-83.493611</td>\n",
       "      <td>38.111667</td>\n",
       "      <td>205</td>\n",
       "      <td>Rowan</td>\n",
       "    </tr>\n",
       "    <tr>\n",
       "      <th>3</th>\n",
       "      <td>MOTHER'S DAY</td>\n",
       "      <td>2010</td>\n",
       "      <td>3740.0</td>\n",
       "      <td>Lightning</td>\n",
       "      <td>-82.484444</td>\n",
       "      <td>30.310556</td>\n",
       "      <td>023</td>\n",
       "      <td>Columbia</td>\n",
       "    </tr>\n",
       "    <tr>\n",
       "      <th>4</th>\n",
       "      <td>SCHULTZ</td>\n",
       "      <td>2010</td>\n",
       "      <td>15075.0</td>\n",
       "      <td>Campfire</td>\n",
       "      <td>-111.623889</td>\n",
       "      <td>35.286389</td>\n",
       "      <td>005</td>\n",
       "      <td>Coconino</td>\n",
       "    </tr>\n",
       "  </tbody>\n",
       "</table>\n",
       "</div>"
      ],
      "text/plain": [
       "            FIRE_NAME  FIRE_YEAR  FIRE_SIZE STAT_CAUSE_DESCR   LONGITUDE  \\\n",
       "0           WATERHOLE       2010     1818.0            Arson  -82.396389   \n",
       "1  015 CAMP CLAIBORNE       2010     1633.0            Arson  -92.578333   \n",
       "2            CLAYLICK       2010     1102.0    Miscellaneous  -83.493611   \n",
       "3        MOTHER'S DAY       2010     3740.0        Lightning  -82.484444   \n",
       "4             SCHULTZ       2010    15075.0         Campfire -111.623889   \n",
       "\n",
       "    LATITUDE FIPS_CODE FIPS_NAME  \n",
       "0  30.321111       003     Baker  \n",
       "1  31.115278       079   Rapides  \n",
       "2  38.111667       205     Rowan  \n",
       "3  30.310556       023  Columbia  \n",
       "4  35.286389       005  Coconino  "
      ]
     },
     "execution_count": 6,
     "metadata": {},
     "output_type": "execute_result"
    }
   ],
   "source": [
    "df_us_fires.head()"
   ]
  },
  {
   "cell_type": "code",
   "execution_count": 25,
   "metadata": {},
   "outputs": [
    {
     "name": "stdout",
     "output_type": "stream",
     "text": [
      "Enter year: 2015\n"
     ]
    }
   ],
   "source": [
    "# Prompt for year to process.\n",
    "fire_year = input(\"Enter year: \")\n"
   ]
  },
  {
   "cell_type": "code",
   "execution_count": 26,
   "metadata": {
    "scrolled": true
   },
   "outputs": [
    {
     "name": "stderr",
     "output_type": "stream",
     "text": [
      "C:\\ProgramData\\Anaconda3\\lib\\site-packages\\ipykernel_launcher.py:2: SettingWithCopyWarning:\n",
      "\n",
      "\n",
      "A value is trying to be set on a copy of a slice from a DataFrame\n",
      "\n",
      "See the caveats in the documentation: http://pandas.pydata.org/pandas-docs/stable/indexing.html#indexing-view-versus-copy\n",
      "\n"
     ]
    }
   ],
   "source": [
    "df_fire_season = df_us_fires[df_us_fires['FIRE_YEAR'] == int(fire_year)]\n",
    "df_fire_season.sort_values(by=[\"FIRE_SIZE\"], ascending=False, inplace=True)\n",
    "#df_fire_season.head()"
   ]
  },
  {
   "cell_type": "code",
   "execution_count": 27,
   "metadata": {},
   "outputs": [
    {
     "name": "stderr",
     "output_type": "stream",
     "text": [
      "C:\\ProgramData\\Anaconda3\\lib\\site-packages\\ipykernel_launcher.py:1: SettingWithCopyWarning:\n",
      "\n",
      "\n",
      "A value is trying to be set on a copy of a slice from a DataFrame.\n",
      "Try using .loc[row_indexer,col_indexer] = value instead\n",
      "\n",
      "See the caveats in the documentation: http://pandas.pydata.org/pandas-docs/stable/indexing.html#indexing-view-versus-copy\n",
      "\n"
     ]
    }
   ],
   "source": [
    "df_fire_season['text'] = df_fire_season['FIRE_NAME'] + '<br>Fire Size ' + (df_fire_season['FIRE_SIZE']).astype(str)+' acres'\n",
    "limits = [(0,2),(3,10),(11,20),(21,50),(50,8000)]\n",
    "colors = [\"rgb(204,0,0)\",\"rgb(255,0,0)\",\"rgb(255,128,0)\",\"rgb(255,153,153)\",\"rgb(255,229,204)\"]\n",
    "states = []\n",
    "scale = 500"
   ]
  },
  {
   "cell_type": "code",
   "execution_count": 28,
   "metadata": {},
   "outputs": [],
   "source": [
    "for i in range(len(limits)):\n",
    "    lim = limits[i]\n",
    "    df_subset = df_fire_season[lim[0]:lim[1]]\n",
    "    state = dict(\n",
    "        type = 'scattergeo',\n",
    "        locationmode = 'USA-states',\n",
    "        lon = df_subset['LONGITUDE'],\n",
    "        lat = df_subset['LATITUDE'],\n",
    "        text = df_subset['text'],\n",
    "        marker = dict(\n",
    "            size = df_subset['FIRE_SIZE']/scale,\n",
    "            color = colors[i],\n",
    "            line = dict(width=0.5, color='rgb(40,40,40)'),\n",
    "            sizemode = 'area'\n",
    "        ),\n",
    "        name = '{0} - {1}'.format(lim[0],lim[1]) )\n",
    "    states.append(state)"
   ]
  },
  {
   "cell_type": "code",
   "execution_count": 29,
   "metadata": {},
   "outputs": [
    {
     "name": "stdout",
     "output_type": "stream",
     "text": [
      "High five! You successfully sent some data to your account on plotly. View your plot in your browser at https://plot.ly/~kashs/0 or inside your plot.ly account where it is named 'd3-bubble-map-wildfire'\n"
     ]
    },
    {
     "data": {
      "text/html": [
       "<iframe id=\"igraph\" scrolling=\"no\" style=\"border:none;\" seamless=\"seamless\" src=\"https://plot.ly/~kashs/0.embed\" height=\"525px\" width=\"100%\"></iframe>"
      ],
      "text/plain": [
       "<plotly.tools.PlotlyDisplay object>"
      ]
     },
     "execution_count": 29,
     "metadata": {},
     "output_type": "execute_result"
    }
   ],
   "source": [
    "layout = dict(\n",
    "        title = str(fire_year) + ' Wildfires',\n",
    "        showlegend = True,\n",
    "        geo = dict(\n",
    "            scope='usa',\n",
    "            projection=dict( type='albers usa' ), \n",
    "            showland = True,\n",
    "            landcolor = 'rgb(217, 217, 217)',\n",
    "            subunitwidth=1,\n",
    "            countrywidth=1,\n",
    "            subunitcolor=\"rgb(255, 255, 255)\",\n",
    "            countrycolor=\"rgb(255, 255, 255)\"\n",
    "        ),\n",
    "    )\n",
    "\n",
    "fig = dict( data=states, layout=layout )\n",
    "py.plotly.iplot( fig, validate=False, filename='d3-bubble-map-wildfire' )"
   ]
  },
  {
   "cell_type": "code",
   "execution_count": 19,
   "metadata": {},
   "outputs": [],
   "source": [
    "engine.dispose()"
   ]
  },
  {
   "cell_type": "code",
   "execution_count": null,
   "metadata": {},
   "outputs": [],
   "source": []
  }
 ],
 "metadata": {
  "kernelspec": {
   "display_name": "Python 3",
   "language": "python",
   "name": "python3"
  },
  "language_info": {
   "codemirror_mode": {
    "name": "ipython",
    "version": 3
   },
   "file_extension": ".py",
   "mimetype": "text/x-python",
   "name": "python",
   "nbconvert_exporter": "python",
   "pygments_lexer": "ipython3",
   "version": "3.6.4"
  }
 },
 "nbformat": 4,
 "nbformat_minor": 2
}
